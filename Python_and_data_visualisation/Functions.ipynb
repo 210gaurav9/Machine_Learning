{
 "cells": [
  {
   "cell_type": "code",
   "execution_count": 1,
   "metadata": {},
   "outputs": [],
   "source": [
    "#Functions"
   ]
  },
  {
   "cell_type": "code",
   "execution_count": 4,
   "metadata": {},
   "outputs": [
    {
     "name": "stdout",
     "output_type": "stream",
     "text": [
      "enter the value of var1 :12\n",
      "enter the value of var2 :25\n",
      "sum = 37\n"
     ]
    }
   ],
   "source": [
    "#no arg and no return type\n",
    "def add():\n",
    "    var1=int(input(\"enter the value of var1 :\"))\n",
    "    var2=int(input(\"enter the value of var2 :\"))\n",
    "    \n",
    "    var3=var1+var2\n",
    "    print(\"sum =\",var3)\n",
    "#add()\n"
   ]
  },
  {
   "cell_type": "code",
   "execution_count": 9,
   "metadata": {},
   "outputs": [
    {
     "name": "stdout",
     "output_type": "stream",
     "text": [
      "difference= -6.9\n"
     ]
    }
   ],
   "source": [
    "#with arg and no return type\n",
    "def sub(var1,var2):\n",
    "    var3=var1-var2\n",
    "    print(\"difference=\",var3)\n",
    "\n",
    "#sub(3.1,10)"
   ]
  },
  {
   "cell_type": "code",
   "execution_count": 10,
   "metadata": {},
   "outputs": [
    {
     "name": "stdout",
     "output_type": "stream",
     "text": [
      "enter the value of var1 :12\n",
      "enter the value of var2 :5\n",
      "mul value= 60\n"
     ]
    }
   ],
   "source": [
    "#without arg and return type\n",
    "def mul():\n",
    "    var1=int(input(\"enter the value of var1 :\"))\n",
    "    var2=int(input(\"enter the value of var2 :\"))\n",
    "    var3=var1*var2\n",
    "    return var3\n",
    "#var4=mul()\n",
    "#print(\"mul value=\",var4)"
   ]
  },
  {
   "cell_type": "code",
   "execution_count": 14,
   "metadata": {},
   "outputs": [
    {
     "name": "stdout",
     "output_type": "stream",
     "text": [
      "without floor value= 1.6666666666666667\n",
      "with floor value= 1\n"
     ]
    }
   ],
   "source": [
    "#with arg and return type\n",
    "def div(var1,var2):\n",
    "    var3=var1/var2\n",
    "    var4=var1//var2\n",
    "    return var3,var4\n",
    "#var5,var6=div(5,3)\n",
    "#print(\"without floor value=\",var5)\n",
    "#print(\"with floor value=\",var6)"
   ]
  },
  {
   "cell_type": "code",
   "execution_count": null,
   "metadata": {},
   "outputs": [],
   "source": []
  }
 ],
 "metadata": {
  "kernelspec": {
   "display_name": "Python 3",
   "language": "python",
   "name": "python3"
  },
  "language_info": {
   "codemirror_mode": {
    "name": "ipython",
    "version": 3
   },
   "file_extension": ".py",
   "mimetype": "text/x-python",
   "name": "python",
   "nbconvert_exporter": "python",
   "pygments_lexer": "ipython3",
   "version": "3.7.1"
  }
 },
 "nbformat": 4,
 "nbformat_minor": 2
}
