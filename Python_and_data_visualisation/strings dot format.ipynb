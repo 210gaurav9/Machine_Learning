{
 "cells": [
  {
   "cell_type": "code",
   "execution_count": 2,
   "metadata": {},
   "outputs": [
    {
     "name": "stdout",
     "output_type": "stream",
     "text": [
      "hello, gaurav\n"
     ]
    }
   ],
   "source": [
    "var1=\"hello\"\n",
    "var2=\"gaurav\"\n",
    "message=var1+\", \"+var2\n",
    "print(message)"
   ]
  },
  {
   "cell_type": "markdown",
   "metadata": {},
   "source": [
    "message2= '{}, {}. How are you?'.format(var1,var2)\n",
    "print(message2)"
   ]
  },
  {
   "cell_type": "code",
   "execution_count": 3,
   "metadata": {},
   "outputs": [
    {
     "name": "stdout",
     "output_type": "stream",
     "text": [
      "hello, gaurav. How are you?\n"
     ]
    }
   ],
   "source": [
    "message2='{}, {}. How are you?'.format(var1,var2)\n",
    "print(message2)"
   ]
  },
  {
   "cell_type": "code",
   "execution_count": 4,
   "metadata": {},
   "outputs": [
    {
     "name": "stdout",
     "output_type": "stream",
     "text": [
      "hello, gaurav. How are you?\n"
     ]
    }
   ],
   "source": [
    "message3=f'{var1}, {var2}. How are you?'\n",
    "print(message3)"
   ]
  },
  {
   "cell_type": "code",
   "execution_count": 22,
   "metadata": {},
   "outputs": [
    {
     "name": "stdout",
     "output_type": "stream",
     "text": [
      "hello, gaurav. how are you?\n",
      "HELLO, GAURAV. HOW ARE YOU?\n",
      "<class 'str'>\n",
      "27\n",
      "False\n",
      "27\n",
      "3\n",
      "7\n",
      "gaurav\n"
     ]
    }
   ],
   "source": [
    "print(message3.lower())\n",
    "print(message3.upper())\n",
    "print(type(message3))\n",
    "print(message3.__len__())\n",
    "print(message3.__le__(message))\n",
    "print(len(message3))\n",
    "print(message3.count('a'))\n",
    "print(message3.find('gaurav'))\n",
    "print(message3[7:13])"
   ]
  },
  {
   "cell_type": "code",
   "execution_count": null,
   "metadata": {},
   "outputs": [],
   "source": []
  }
 ],
 "metadata": {
  "kernelspec": {
   "display_name": "Python 3",
   "language": "python",
   "name": "python3"
  },
  "language_info": {
   "codemirror_mode": {
    "name": "ipython",
    "version": 3
   },
   "file_extension": ".py",
   "mimetype": "text/x-python",
   "name": "python",
   "nbconvert_exporter": "python",
   "pygments_lexer": "ipython3",
   "version": "3.7.1"
  }
 },
 "nbformat": 4,
 "nbformat_minor": 2
}
